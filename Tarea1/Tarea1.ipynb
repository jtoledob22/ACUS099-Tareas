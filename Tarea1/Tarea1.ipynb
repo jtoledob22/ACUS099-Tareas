{
 "cells": [
  {
   "attachments": {},
   "cell_type": "markdown",
   "id": "7ef61409-187f-4738-8767-cd7b842e08fc",
   "metadata": {},
   "source": [
    "<img src=\"fotos/logo_uach.png\" alt=\"UACh\" style=\"height: 200px; display: block;margin-left: auto;margin-right: auto;\"/>\n",
    "\n",
    "# Tarea 1: Resumen ACUS099\n",
    "## Integrantes: \n",
    "+ Joaquin Toledo\n",
    "+ Cristóbal González"
   ]
  },
  {
   "attachments": {},
   "cell_type": "markdown",
   "id": "ea325c5d-dd4f-456d-8c39-3586c6a862d0",
   "metadata": {},
   "source": [
    "# Uso de Markdown\n",
    "\n",
    "### Índice\n",
    "+ [1. Introducción](#id1)\n",
    "+ [2. Miniconda](#id2)\n",
    "  - [2.1 Instalación Conda](#id2.1)\n",
    "  - [2.2 Creación Entorno Virtual](#id2.2)\n",
    "+ [3. Paquetes a Utilizar](#id3)\n",
    "  - [3.1 Python](#id3.1)\n",
    " \n",
    "\n",
    "---\n",
    "\n",
    "## 1. Introducción <a name='id1'></a>.\n",
    "En este cuadernillo resumiremos los primeros pasos para el curso de ACUS099. En el curso se utilizara como lenguaje de programación Python y Jupyter Notebook para redactar de manera legible los códigos. Por ultimo, tambien se utilizara un gestor de paquetes y de ambientes virtuales llamado \"conda\".\n",
    "\n",
    "## 2. Miniconda <a name='id2'></a>\n",
    "Miniconda es la version simplificada de Anaconda, donde se solo instala \"conda\" de la distribución, el cual es un gestor de paquetes y ademas de entornos virtuales.\n",
    "\n",
    ">**Nota:**\n",
    ">Un entorno virtual de conda, es donde se pueden instalar distintos paquetes sin afectar al sistema operativo. Por ejemplo, para el caso de este curso se creó un entorno virtual con una versión especifica de python, distinta a la del sistema operativo.\n",
    ">\n",
    ">Aquí puedes acceder a la [Documentación de Miniconda](https://docs.anaconda.com/free/miniconda/index.html).\n",
    ">\n",
    ">También hay una clase que explica todos estos pasos [Video Clase](https://www.youtube.com/watch?v=1R0ZUeRuPfk&t=12s).\n",
    "\n",
    "### 2.1 Instalación Conda <a name='id2.1'></a>\n",
    "En nuestro caso, para instalar conda en Mac OSX utilizamos el gestor de paquetes brew, mediante la siguente linea de codigo `brew install miniconda`\n",
    "\n",
    "Luego, para verificar que esté instalado correctamente podemos ingresar `conda --version` y debería devolvernos la version de Miniconda, como se ve en la siguente imagen:\n",
    "<img src=\"fotos/conda-v.png\" width=\"700\" style=\"display: block;margin-left: auto;margin-right: auto;padding-top:10px;\"/>\n",
    "\n",
    "\n",
    "### 2.2 Creación Entorno Virtual <a name='id2.2'></a>\n",
    "Para crear un entorno virtual se debe ingresar: `conda create -n [Nombre Entorno]`\n",
    "<img src=\"fotos/conda-c.png\" width=\"700\" style=\"display: block;margin-left: auto;margin-right: auto;padding-top:10px;\"/>\n",
    "\n",
    "Luego, para entrar al entorno `conda activate [Nombre Entorno]` y `conda deactivate` para volver al entorno base. \n",
    ">Dentro del entorno podremos instalar los paquetes con `conda install [Nombre Paquete]`\n",
    "\n",
    "\n",
    "## 3. Paquetes a utilizar <a name='id3'></a>\n",
    "Para instalar un paquete, primero se debe estar dentro del entorno destino e ingresar `conda install [Nombre Paquete]`. A continuacion se presentaran los paquetes utilizados en la asignatura.\n",
    "\n",
    "### 3.1 Python <a name='id3.1'></a>\n",
    "Python es un lenguaje con una sintaxis facíl de leer y entender. Este tiene una gran comunidad que desarrolla una gran variedad de bibliotecas para aplicarlo a las distintas áreas, por lo que hace un lenguaje muy versátil y facíl de utilizar. Python es el lenguaje de programación base que se utilizara durante la Asignatura.\n"
   ]
  },
  {
   "cell_type": "markdown",
   "id": "c8011648-57a5-426d-8dc7-da89001f3aee",
   "metadata": {},
   "source": [
    "+ **Ecuaciones en LaTeX** \n",
    "  $a^2+b^2=c^2$\n",
    "  $$x(t)=Asin(\\omega t+\\phi)$$\n",
    "  \\begin{equation}\n",
    "    f(x) = \\int_{-\\infty}^{\\infty} e^{-x^2} dx\n",
    "  \\end{equation}\n",
    "**Negrita** y *Cursiva*\n",
    "\n",
    "+ Enlaces\n",
    "  > En el siguente [Link UACh](https://uach.cl/)\n",
    "+ hola"
   ]
  },
  {
   "cell_type": "markdown",
   "id": "54ea1602-0661-4b85-b0f9-afc0e824bb90",
   "metadata": {},
   "source": [
    "## Función delta\n",
    "$$\n",
    "\\delta(x) =\n",
    "\\left \\{\n",
    "  \\begin{array}{lcc}\n",
    "    0 & ; &  x≠0\\\\\n",
    "    1 & ; & x=0 \n",
    "  \\end{array}\n",
    "\\right.\n",
    "$$\n",
    "\n",
    "## Sifting\n",
    "\n",
    "$n=$ Número de muestra\n",
    "\n",
    "\\begin{equation}\n",
    "x[n]= \\sum_{k=-\\infty}^{\\infty}x[k]*\\delta[n-k]\n",
    "\\end{equation}\n",
    "\n",
    "\\begin{equation}\n",
    "f(T)= \\int_{-\\infty}^{\\infty} f(T)*\\delta(t-T)dt\n",
    "\\end{equation}\n",
    "\n",
    "## Sistema"
   ]
  },
  {
   "cell_type": "code",
   "execution_count": null,
   "id": "d5d277f0-c325-4ff0-9d83-022bf3631a01",
   "metadata": {},
   "outputs": [],
   "source": []
  }
 ],
 "metadata": {
  "kernelspec": {
   "display_name": "acus099",
   "language": "python",
   "name": "acus099"
  },
  "language_info": {
   "codemirror_mode": {
    "name": "ipython",
    "version": 3
   },
   "file_extension": ".py",
   "mimetype": "text/x-python",
   "name": "python",
   "nbconvert_exporter": "python",
   "pygments_lexer": "ipython3",
   "version": "3.9.18"
  }
 },
 "nbformat": 4,
 "nbformat_minor": 5
}
