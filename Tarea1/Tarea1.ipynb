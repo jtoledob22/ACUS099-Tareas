{
 "cells": [
  {
   "attachments": {},
   "cell_type": "markdown",
   "id": "7ef61409-187f-4738-8767-cd7b842e08fc",
   "metadata": {
    "jp-MarkdownHeadingCollapsed": true
   },
   "source": [
    "<img src=\"fotos/logo_uach.png\" alt=\"UACh\" style=\"height: 200px; display: block;margin-left: auto;margin-right: auto;\"/>\n",
    "\n",
    "# Tarea 1: Resumen ACUS099\n",
    "## Integrantes: \n",
    "+ Joaquin Toledo\n",
    "+ Cristóbal González"
   ]
  },
  {
   "cell_type": "markdown",
   "id": "ea325c5d-dd4f-456d-8c39-3586c6a862d0",
   "metadata": {},
   "source": [
    "# Uso de Markdown\n",
    "\n",
    "### Índice\n",
    "+ [1. Introducción](#id1)\n",
    "+ [2. Miniconda](#id2)\n",
    "  - [2.1 Instalación Conda](#id2.1)\n",
    "  - [2.2 Creación Entorno Virtual](#id2.2)\n",
    "+ [3. Software a Utilizar](#id3)\n",
    "  - [3.1 Python](#id3.1)\n",
    "  - [3.2 Jupyter Notebook](#id3.2)\n",
    "  - [3.3 Visual Studio Code](#id3.3)\n",
    "  - [3.4 GitHub y GIT](#id3.4)\n",
    "+ [4. Funciones a Utilizar](#id4)\n",
    "  - [4.1 Funcion Delta Dirac](#id4.1)\n",
    "  - [4.2 Función Escalón](#id4.2)\n",
    "  - [4.3 Sifting](#id4.3)\n",
    "---\n",
    "\n",
    "## 1. Introducción <a name='id1'></a>.\n",
    "En este cuadernillo resumiremos los primeros pasos para el curso de ACUS099. En el curso se utilizara como lenguaje de programación Python y Jupyter Notebook para redactar de manera legible los códigos. Por ultimo, tambien se utilizara un gestor de paquetes y de ambientes virtuales llamado \"conda\".\n",
    "\n",
    "## 2. Miniconda <a name='id2'></a>\n",
    "Miniconda es la versión simplificada de Anaconda, donde solo se instala \"Conda\" de la distribución. \"Conda\" es un potente gestor de paquetes que facilita la instalación, actualización y gestión de librerías y herramientas en Python y otros lenguajes de programación. Además de servir como gestor de paquetes, con \"Conda\" también se pueden crear y gestionar entornos virtuales, lo que permite a los usuarios trabajar en proyectos con configuraciones y dependencias específicas sin interferir con otros proyectos.\n",
    "\n",
    ">**Nota:**\n",
    ">Un entorno virtual es una herramienta que permite a los desarrolladores crear y mantener entornos de desarrollo aislados para sus proyectos. Estos entornos virtuales contienen versiones específicas de librerías, herramientas y dependencias necesarias para un proyecto en particular, lo que evita conflictos entre diferentes proyectos que puedan requerir diferentes versiones de las mismas librerías. Esto facilita el desarrollo y la colaboración, ya que cada proyecto puede tener su propio entorno virtual con sus configuraciones únicas. Es por esto que garantiza la reproducibilidad para que el proyecto puede ser ejecutado desde cualquier computador.\n",
    ">\n",
    ">>\n",
    ">>Aquí puedes acceder a la [Documentación de Miniconda](https://docs.anaconda.com/free/miniconda/index.html).\n",
    ">>\n",
    ">>También hay una clase que explica todos estos pasos [Video Clase](https://www.youtube.com/watch?v=1R0ZUeRuPfk&t=12s).\n",
    "\n",
    "### 2.1 Instalación Conda <a name='id2.1'></a>\n",
    "En nuestro caso, para instalar Conda en Mac OSX utilizamos el gestor de paquetes brew, mediante la siguente linea de codigo `brew install miniconda`\n",
    "\n",
    ">**Nota:** Si eres usuario de *Mac OSX*, no es necesario utilizar brew para instalar conda. En la documentación hay un instalador con interfaz gráfica y los detalles.\n",
    "\n",
    "Luego, para verificar que esté instalado correctamente podemos ingresar `conda --version` y debería devolvernos la version de Miniconda, como se ve en la siguente imagen:\n",
    "<img src=\"fotos/conda-v.png\" width=\"700\" style=\"display: block;margin-left: auto;margin-right: auto;padding-top:10px;\"/>\n",
    "\n",
    "\n",
    "### 2.2 Creación Entorno Virtual <a name='id2.2'></a>\n",
    "Para crear un entorno virtual se debe ingresar: `conda create -n [Nombre Entorno]`\n",
    "<img src=\"fotos/conda-c.png\" width=\"700\" style=\"display: block;margin-left: auto;margin-right: auto;padding-top:10px;\"/>\n",
    "\n",
    "Luego, para entrar al entorno `conda activate [Nombre Entorno]` y `conda deactivate` para volver al entorno base. \n",
    ">Dentro del entorno podremos instalar los paquetes con `conda install [Nombre Paquete]`\n",
    "\n",
    "\n",
    "## 3. Software a utilizar <a name='id3'></a>\n",
    "Para instalar un paquete, primero se debe estar dentro del entorno destino e ingresar `conda install [Nombre Paquete]`. A continuacion se presentaran los paquetes utilizados en la asignatura.\n",
    "\n",
    "### 3.1 Python <a name='id3.1'></a>\n",
    "\n",
    "<img src=\"fotos/Python.png\" width=\"50\" style=\"display: block;margin-right: auto;padding-top:10px;\"/>\n",
    "<p style=\"display: block; margin-left:auto\">\n",
    "    Python es un lenguaje con una sintaxis facíl de leer y entender. Esto lo hace accesible tanto para principiantes como para programadores experimentados. Además, cuenta con una gran comunidad de desarrolladores que contribuyen activamente a su ecosistema, creando una amplia variedad de bibliotecas y frameworks para aplicarlo en diversas áreas, por lo que hace un lenguaje muy versátil y facíl de utilizar. \n",
    "</p>\n",
    "\n",
    "**Python es el lenguaje de programación base que se utilizara durante la Asignatura.**\n"
   ]
  },
  {
   "cell_type": "markdown",
   "id": "8f35b323",
   "metadata": {},
   "source": [
    "### 3.2 Jupyter Notebook <a name='id3.2'></a>\n",
    "\n",
    "Jupyter Notebook es un programa con interfaz de web de codigo abierto que te permite crear y compartir documentos que pueden contener más de un lenguaje a la vez, entre ellos Python, Markdown, R, entre otros, igualmente tiene la capacidad de trabajar en el kernel deseado, ya sea el de base como el de los entornos que hayas creado con Conda. Es comúnmente utilizado en el sector académico, para proyectos, investigaciones, etc; Como también para el sector científico. Esto es gracias a la flexibilidad que otorga esta aplicación.\n",
    "\n",
    "\n",
    "<img src=\"fotos/foto-jupyter.png\" width=\"700\" style=\"display: block;margin-left: auto;margin-right: auto;padding-top:10px;\"/>\n"
   ]
  },
  {
   "cell_type": "markdown",
   "id": "ae574657",
   "metadata": {},
   "source": [
    "### 3.3 Visual Studio Code <a name='id3.3'></a>\n",
    "\n",
    "Visual Studio Code o solamente \"VS Code\", es un programa de entorno integrado creado por la empresa Microsoft. Su diseño ligero y completo ha hecho el trabajo fácil para quienes usan esta plataforma. Visual Studio es compatible con una variedad de lenguajes como Python, Markdown, R, entre otros. El programa ofrece características como resultados de sintáxis, finalización de códigos, control de versiones, entre otros. Además ofrece una amplia cantidad de extensiones que permiten a los usuarios de de VS Code tenga su plataforma a su comodidad. Y por último, Visual Studio Code es un programa multiplataforma, que quiere decir, que puede ser usado en sistemas operativos u OS tales como Linux, Windows y MacOS.\n",
    "\n",
    "\n",
    "<img src=\"fotos/foto-vscode.png\" width=\"700\" style=\"display: block;margin-left: auto;margin-right: auto;padding-top:10px;\"/>\n",
    "\n",
    "\n"
   ]
  },
  {
   "cell_type": "markdown",
   "id": "21c3243c",
   "metadata": {},
   "source": [
    "### 3.4 GitHub y GIT <a name='id3.4'></a>\n",
    "\n",
    "Git es un sistema de control de versiones distribuido, lo que significa que es un clon local del proyecto del repositorio de control de versiones completo. Esto te permite trabajar sin conexión y de forma remota con facilidad; y GitHub es una plataforma online de desarrollo de software que se usa para almacenar, distribuir, compartir y trabajar en proyectos de software. Facilita el intercambio de archivos de código y trabajar en proyectos colaborativosn de código abierto. \n",
    "\n",
    "<img src=\"fotos/foto-github.png\" width=\"700\" style=\"display: block;margin-left: auto;margin-right: auto;padding-top:10px;\"/>\n"
   ]
  },
  {
   "cell_type": "markdown",
   "id": "a60c823f-f1b7-4f1d-9e00-acef1f01fa2b",
   "metadata": {},
   "source": [
    "## 4. Funciones útiles para el procesamiento de señales. <a name='id4'></a>\n",
    "\n",
    "A continuación, se defirán las expresiones matemáticas utilizadas durante el curso"
   ]
  },
  {
   "cell_type": "markdown",
   "id": "54ea1602-0661-4b85-b0f9-afc0e824bb90",
   "metadata": {},
   "source": [
    "### 4.1 Función Delta de Dirac <a name='id4.1'></a>\n",
    "$$\n",
    "\\delta(x) =\n",
    "\\left \\{\n",
    "  \\begin{array}{lcc}\n",
    "    0 & ; &  x≠0\\\\\n",
    "    1 & ; & x=0 \n",
    "  \\end{array}\n",
    "\\right.\n",
    "$$\n",
    "\n",
    "Se definirá la función delta en Python y su grafico (en dominio Discreto desde -10 a 10)."
   ]
  },
  {
   "cell_type": "markdown",
   "id": "5d5037c4",
   "metadata": {},
   "source": [
    "```python\n",
    "## Funcion delta en Python\n",
    "def delta(n):\n",
    "    return 1*(n==0) ## Ingresa 1 en posicion n\n",
    "```"
   ]
  },
  {
   "cell_type": "code",
   "execution_count": 2,
   "id": "f4b332ab-ef4f-4e3f-841a-822b8dccabd1",
   "metadata": {},
   "outputs": [
    {
     "data": {
      "image/png": "[encoded data removed]",
      "text/plain": [
       "<Figure size 640x480 with 1 Axes>"
      ]
     },
     "metadata": {},
     "output_type": "display_data"
    }
   ],
   "source": [
    "import matplotlib.pyplot as plt # Librería para Gráficarla\n",
    "import numpy as np # Libreria para definir Dominio\n",
    "\n",
    "## Funcion delta en python\n",
    "def delta(n):\n",
    "    return 1.*(n==0) # Delta en 0\n",
    "\n",
    "n=np.arange(-15,15) # Dominio Discreto\n",
    "plt.stem(n,delta(n)); # Gráfico Función Delta en 0"
   ]
  },
  {
   "cell_type": "markdown",
   "id": "65d11dae-e7f6-4cc9-961b-ff6f0cea7749",
   "metadata": {},
   "source": [
    "### 4.2 Función Delta Escalón <a name='id4.2'></a>\n",
    "$$\n",
    "u(x) =\n",
    "\\left \\{\n",
    "  \\begin{array}{lcc}\n",
    "    0 & ; &  x<0\\\\\n",
    "    1 & ; & x\\geq 0 \n",
    "  \\end{array}\n",
    "\\right.\n",
    "$$\n",
    "\n",
    "A continuación, se definirá la función delta escalon en Python y su grafico (en dominio Discreto desde -10 a 10)."
   ]
  },
  {
   "cell_type": "code",
   "execution_count": 3,
   "id": "7df1d3c5-9684-439f-9aa8-e04eacc97967",
   "metadata": {},
   "outputs": [
    {
     "data": {
      "image/png": "[encoded data removed]",
      "text/plain": [
       "<Figure size 640x480 with 1 Axes>"
      ]
     },
     "metadata": {},
     "output_type": "display_data"
    }
   ],
   "source": [
    "# Se utilizarán las mismas librerías por lo tanto no se importaran nuevamente\n",
    "\n",
    "## Funcion delta en python\n",
    "def escalon(n):\n",
    "    return 1.*(n>=0) # Delta en 0\n",
    "\n",
    "n=np.arange(-15,15) # Dominio Discreto\n",
    "plt.stem(n,escalon(n)); # Gráfico Función Delta en 0"
   ]
  },
  {
   "cell_type": "markdown",
   "id": "a7ec286f-e7e0-4e35-9bb3-48d6702afe0a",
   "metadata": {},
   "source": [
    "### 4.3 Sifting <a name='id4.3'></a>\n",
    "\n",
    "$n=$ Número de muestra\n",
    "\n",
    "\\begin{equation}\n",
    "x[n]= \\sum_{k=-\\infty}^{\\infty}x[k] \\delta[n-k]\n",
    "\\end{equation}\n",
    "\n",
    "\\begin{equation}\n",
    "f(T)= \\int_{-\\infty}^{\\infty} f(T)\\delta(t-T)dt\n",
    "\\end{equation}\n",
    "\n",
    "## Sistema"
   ]
  },
  {
   "cell_type": "markdown",
   "id": "7967e0c9",
   "metadata": {},
   "source": []
  }
 ],
 "metadata": {
  "kernelspec": {
   "display_name": "acus099",
   "language": "python",
   "name": "acus099"
  },
  "language_info": {
   "codemirror_mode": {
    "name": "ipython",
    "version": 3
   },
   "file_extension": ".py",
   "mimetype": "text/x-python",
   "name": "python",
   "nbconvert_exporter": "python",
   "pygments_lexer": "ipython3",
   "version": "3.10.13"
  }
 },
 "nbformat": 4,
 "nbformat_minor": 5
}
